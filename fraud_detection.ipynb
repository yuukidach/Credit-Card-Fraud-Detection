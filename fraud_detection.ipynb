{
 "cells": [
  {
   "cell_type": "markdown",
   "metadata": {
    "_cell_guid": "b1076dfc-b9ad-4769-8c92-a6c4dae69d19",
    "_uuid": "8f2839f25d086af736a60e9eeb907d3b93b6e0e5"
   },
   "source": [
    "<h1 align=\"center\">Fraud Detection</h1>  \n",
    "\n",
    "Using the dataset of [Credit Card Fraud Detection](https://www.kaggle.com/mlg-ulb/creditcardfraud) by ULB machine learning group. Later, I am also applying the same technique on [Titanic](https://www.kaggle.com/c/titanic) dataset. A number of kagglers have shared different approaches such as dataset balancing, anomaly detection, boosting models, deep learning etc but this approach is different. \n",
    " \n",
    "## 1. Dataset Preparation\n",
    "\n",
    "First, we will load all the required libraries and load the dataset using pandas dataframe. "
   ]
  },
  {
   "cell_type": "code",
   "execution_count": 1,
   "metadata": {
    "_cell_guid": "79c7e3d0-c299-4dcb-8224-4455121ee9b0",
    "_kg_hide-input": true,
    "_uuid": "d629ff2d2480ee46fbb7e2d37f6b5fab8052498a"
   },
   "outputs": [
    {
     "data": {
      "text/html": [
       "<div>\n",
       "<style scoped>\n",
       "    .dataframe tbody tr th:only-of-type {\n",
       "        vertical-align: middle;\n",
       "    }\n",
       "\n",
       "    .dataframe tbody tr th {\n",
       "        vertical-align: top;\n",
       "    }\n",
       "\n",
       "    .dataframe thead th {\n",
       "        text-align: right;\n",
       "    }\n",
       "</style>\n",
       "<table border=\"1\" class=\"dataframe\">\n",
       "  <thead>\n",
       "    <tr style=\"text-align: right;\">\n",
       "      <th></th>\n",
       "      <th>Time</th>\n",
       "      <th>V1</th>\n",
       "      <th>V2</th>\n",
       "      <th>V3</th>\n",
       "      <th>V4</th>\n",
       "      <th>V5</th>\n",
       "      <th>V6</th>\n",
       "      <th>V7</th>\n",
       "      <th>V8</th>\n",
       "      <th>V9</th>\n",
       "      <th>...</th>\n",
       "      <th>V21</th>\n",
       "      <th>V22</th>\n",
       "      <th>V23</th>\n",
       "      <th>V24</th>\n",
       "      <th>V25</th>\n",
       "      <th>V26</th>\n",
       "      <th>V27</th>\n",
       "      <th>V28</th>\n",
       "      <th>Amount</th>\n",
       "      <th>Class</th>\n",
       "    </tr>\n",
       "  </thead>\n",
       "  <tbody>\n",
       "    <tr>\n",
       "      <th>0</th>\n",
       "      <td>0.000000</td>\n",
       "      <td>-1.359807</td>\n",
       "      <td>-0.072781</td>\n",
       "      <td>2.536347</td>\n",
       "      <td>1.378155</td>\n",
       "      <td>-0.338321</td>\n",
       "      <td>0.462388</td>\n",
       "      <td>0.239599</td>\n",
       "      <td>0.098698</td>\n",
       "      <td>0.363787</td>\n",
       "      <td>...</td>\n",
       "      <td>-0.018307</td>\n",
       "      <td>0.277838</td>\n",
       "      <td>-0.110474</td>\n",
       "      <td>0.066928</td>\n",
       "      <td>0.128539</td>\n",
       "      <td>-0.189115</td>\n",
       "      <td>0.133558</td>\n",
       "      <td>-0.021053</td>\n",
       "      <td>149.62</td>\n",
       "      <td>0</td>\n",
       "    </tr>\n",
       "    <tr>\n",
       "      <th>1</th>\n",
       "      <td>0.000000</td>\n",
       "      <td>1.191857</td>\n",
       "      <td>0.266151</td>\n",
       "      <td>0.166480</td>\n",
       "      <td>0.448154</td>\n",
       "      <td>0.060018</td>\n",
       "      <td>-0.082361</td>\n",
       "      <td>-0.078803</td>\n",
       "      <td>0.085102</td>\n",
       "      <td>-0.255425</td>\n",
       "      <td>...</td>\n",
       "      <td>-0.225775</td>\n",
       "      <td>-0.638672</td>\n",
       "      <td>0.101288</td>\n",
       "      <td>-0.339846</td>\n",
       "      <td>0.167170</td>\n",
       "      <td>0.125895</td>\n",
       "      <td>-0.008983</td>\n",
       "      <td>0.014724</td>\n",
       "      <td>2.69</td>\n",
       "      <td>0</td>\n",
       "    </tr>\n",
       "    <tr>\n",
       "      <th>2</th>\n",
       "      <td>0.000278</td>\n",
       "      <td>-1.358354</td>\n",
       "      <td>-1.340163</td>\n",
       "      <td>1.773209</td>\n",
       "      <td>0.379780</td>\n",
       "      <td>-0.503198</td>\n",
       "      <td>1.800499</td>\n",
       "      <td>0.791461</td>\n",
       "      <td>0.247676</td>\n",
       "      <td>-1.514654</td>\n",
       "      <td>...</td>\n",
       "      <td>0.247998</td>\n",
       "      <td>0.771679</td>\n",
       "      <td>0.909412</td>\n",
       "      <td>-0.689281</td>\n",
       "      <td>-0.327642</td>\n",
       "      <td>-0.139097</td>\n",
       "      <td>-0.055353</td>\n",
       "      <td>-0.059752</td>\n",
       "      <td>378.66</td>\n",
       "      <td>0</td>\n",
       "    </tr>\n",
       "    <tr>\n",
       "      <th>3</th>\n",
       "      <td>0.000278</td>\n",
       "      <td>-0.966272</td>\n",
       "      <td>-0.185226</td>\n",
       "      <td>1.792993</td>\n",
       "      <td>-0.863291</td>\n",
       "      <td>-0.010309</td>\n",
       "      <td>1.247203</td>\n",
       "      <td>0.237609</td>\n",
       "      <td>0.377436</td>\n",
       "      <td>-1.387024</td>\n",
       "      <td>...</td>\n",
       "      <td>-0.108300</td>\n",
       "      <td>0.005274</td>\n",
       "      <td>-0.190321</td>\n",
       "      <td>-1.175575</td>\n",
       "      <td>0.647376</td>\n",
       "      <td>-0.221929</td>\n",
       "      <td>0.062723</td>\n",
       "      <td>0.061458</td>\n",
       "      <td>123.50</td>\n",
       "      <td>0</td>\n",
       "    </tr>\n",
       "    <tr>\n",
       "      <th>4</th>\n",
       "      <td>0.000556</td>\n",
       "      <td>-1.158233</td>\n",
       "      <td>0.877737</td>\n",
       "      <td>1.548718</td>\n",
       "      <td>0.403034</td>\n",
       "      <td>-0.407193</td>\n",
       "      <td>0.095921</td>\n",
       "      <td>0.592941</td>\n",
       "      <td>-0.270533</td>\n",
       "      <td>0.817739</td>\n",
       "      <td>...</td>\n",
       "      <td>-0.009431</td>\n",
       "      <td>0.798278</td>\n",
       "      <td>-0.137458</td>\n",
       "      <td>0.141267</td>\n",
       "      <td>-0.206010</td>\n",
       "      <td>0.502292</td>\n",
       "      <td>0.219422</td>\n",
       "      <td>0.215153</td>\n",
       "      <td>69.99</td>\n",
       "      <td>0</td>\n",
       "    </tr>\n",
       "  </tbody>\n",
       "</table>\n",
       "<p>5 rows × 31 columns</p>\n",
       "</div>"
      ],
      "text/plain": [
       "       Time        V1        V2        V3        V4        V5        V6  \\\n",
       "0  0.000000 -1.359807 -0.072781  2.536347  1.378155 -0.338321  0.462388   \n",
       "1  0.000000  1.191857  0.266151  0.166480  0.448154  0.060018 -0.082361   \n",
       "2  0.000278 -1.358354 -1.340163  1.773209  0.379780 -0.503198  1.800499   \n",
       "3  0.000278 -0.966272 -0.185226  1.792993 -0.863291 -0.010309  1.247203   \n",
       "4  0.000556 -1.158233  0.877737  1.548718  0.403034 -0.407193  0.095921   \n",
       "\n",
       "         V7        V8        V9  ...       V21       V22       V23       V24  \\\n",
       "0  0.239599  0.098698  0.363787  ... -0.018307  0.277838 -0.110474  0.066928   \n",
       "1 -0.078803  0.085102 -0.255425  ... -0.225775 -0.638672  0.101288 -0.339846   \n",
       "2  0.791461  0.247676 -1.514654  ...  0.247998  0.771679  0.909412 -0.689281   \n",
       "3  0.237609  0.377436 -1.387024  ... -0.108300  0.005274 -0.190321 -1.175575   \n",
       "4  0.592941 -0.270533  0.817739  ... -0.009431  0.798278 -0.137458  0.141267   \n",
       "\n",
       "        V25       V26       V27       V28  Amount  Class  \n",
       "0  0.128539 -0.189115  0.133558 -0.021053  149.62      0  \n",
       "1  0.167170  0.125895 -0.008983  0.014724    2.69      0  \n",
       "2 -0.327642 -0.139097 -0.055353 -0.059752  378.66      0  \n",
       "3  0.647376 -0.221929  0.062723  0.061458  123.50      0  \n",
       "4 -0.206010  0.502292  0.219422  0.215153   69.99      0  \n",
       "\n",
       "[5 rows x 31 columns]"
      ]
     },
     "execution_count": 1,
     "metadata": {},
     "output_type": "execute_result"
    }
   ],
   "source": [
    "from keras.layers import Input, Dense\n",
    "from keras.models import Model, Sequential\n",
    "from keras import regularizers\n",
    "from sklearn.model_selection import train_test_split \n",
    "from sklearn.linear_model import LogisticRegression\n",
    "from sklearn.metrics import classification_report, accuracy_score\n",
    "from sklearn.manifold import TSNE\n",
    "from sklearn import preprocessing \n",
    "import matplotlib.pyplot as plt\n",
    "import pandas as pd \n",
    "import numpy as np\n",
    "import seaborn as sns\n",
    "sns.set(style=\"whitegrid\")\n",
    "np.random.seed(203)\n",
    "\n",
    "import os\n",
    "\n",
    "data_pth = os.path.join('dataset', 'creditcard.csv') \n",
    "\n",
    "data = pd.read_csv(data_pth)\n",
    "data[\"Time\"] = data[\"Time\"].apply(lambda x : x / 3600 % 24)\n",
    "data.head()"
   ]
  },
  {
   "cell_type": "markdown",
   "metadata": {},
   "source": [
    "Remove some feautrue that have same desities both on normal data and fraud data."
   ]
  },
  {
   "cell_type": "code",
   "execution_count": 2,
   "metadata": {},
   "outputs": [
    {
     "name": "stdout",
     "output_type": "stream",
     "text": [
      "origin shape: (284807, 31)\n",
      "now shape (284807, 21)\n"
     ]
    }
   ],
   "source": [
    "print('origin shape:', data.shape)\n",
    "data = data.drop(['V8', 'V13', 'V15', 'V20', 'V22', 'V23', 'V24', 'V25', 'V26', 'V27'], axis=1)\n",
    "print('now shape', data.shape)"
   ]
  },
  {
   "cell_type": "markdown",
   "metadata": {
    "_uuid": "31d24b43cc68d57d8b0f788b79a3b505d9f241fa"
   },
   "source": [
    "The dataset consists of 28 anonymized variables, 1 \"amount\" variable, 1 \"time\" variable and 1 target variable - Class. Let's look at the distribution of target. "
   ]
  },
  {
   "cell_type": "code",
   "execution_count": 3,
   "metadata": {
    "_kg_hide-input": true,
    "_uuid": "b6297199e793b1e42cf70bd5e77523b60211303a"
   },
   "outputs": [
    {
     "data": {
      "text/html": [
       "<div>\n",
       "<style scoped>\n",
       "    .dataframe tbody tr th:only-of-type {\n",
       "        vertical-align: middle;\n",
       "    }\n",
       "\n",
       "    .dataframe tbody tr th {\n",
       "        vertical-align: top;\n",
       "    }\n",
       "\n",
       "    .dataframe thead th {\n",
       "        text-align: right;\n",
       "    }\n",
       "</style>\n",
       "<table border=\"1\" class=\"dataframe\">\n",
       "  <thead>\n",
       "    <tr style=\"text-align: right;\">\n",
       "      <th></th>\n",
       "      <th>Target</th>\n",
       "      <th>Count</th>\n",
       "      <th>percent</th>\n",
       "    </tr>\n",
       "  </thead>\n",
       "  <tbody>\n",
       "    <tr>\n",
       "      <th>0</th>\n",
       "      <td>0</td>\n",
       "      <td>284315</td>\n",
       "      <td>99.83</td>\n",
       "    </tr>\n",
       "    <tr>\n",
       "      <th>1</th>\n",
       "      <td>1</td>\n",
       "      <td>492</td>\n",
       "      <td>0.17</td>\n",
       "    </tr>\n",
       "  </tbody>\n",
       "</table>\n",
       "</div>"
      ],
      "text/plain": [
       "   Target   Count  percent\n",
       "0       0  284315    99.83\n",
       "1       1     492     0.17"
      ]
     },
     "execution_count": 3,
     "metadata": {},
     "output_type": "execute_result"
    }
   ],
   "source": [
    "vc = data['Class'].value_counts().to_frame().reset_index()\n",
    "vc['percent'] = vc[\"Class\"].apply(lambda x : round(100*float(x) / len(data), 2))\n",
    "vc = vc.rename(columns = {\"index\" : \"Target\", \"Class\" : \"Count\"})\n",
    "vc"
   ]
  },
  {
   "cell_type": "markdown",
   "metadata": {
    "_uuid": "e12fdaef51899f0ea1f29c1ee06a7f9905f15efd"
   },
   "source": [
    "One of the biggest challenge of this problem is that the **target is highly imbalanced** as only **0.17 %** cases are fraud transactions. But the advantage of the representation learning approach is that it is still able to handle such imbalance nature of the problems. We will look how.  For our use-case let's take only about 1000 rows of non-fraud transactions. \n",
    "\n",
    "### Consider only 1000 rows of non fraud cases"
   ]
  },
  {
   "cell_type": "code",
   "execution_count": 4,
   "metadata": {
    "_uuid": "2cc83013814c8335c944bea30a3d26f8632e8e50"
   },
   "outputs": [],
   "source": [
    "non_fraud = data[data['Class'] == 0].sample(1000)\n",
    "fraud = data[data['Class'] == 1]\n",
    "\n",
    "df = non_fraud.append(fraud).sample(frac=1).reset_index(drop=True)\n",
    "X = df.drop(['Class'], axis = 1).values\n",
    "Y = df[\"Class\"].values"
   ]
  },
  {
   "cell_type": "markdown",
   "metadata": {
    "_uuid": "11469d9b644aecfba1fd99771ebfd842e3d2dae8"
   },
   "source": [
    "## 2. Visualize Fraud and NonFraud Transactions \n",
    "\n",
    "Let's visualize the nature of fraud and non-fraud transactions using T-SNE. T-SNE (t-Distributed Stochastic Neighbor Embedding) is a dataset decomposition technique which reduced the dimentions of data and produces only top n components with maximum information.  \n",
    "\n",
    "Every dot in the following represents a transaction. Non Fraud transactions are represented as Green while Fraud transactions are represented as Red. The two axis are the components extracted by tsne. "
   ]
  },
  {
   "cell_type": "code",
   "execution_count": 5,
   "metadata": {
    "_kg_hide-input": true,
    "_uuid": "eebf4244b1895411e2eab804a09121420b887972"
   },
   "outputs": [
    {
     "data": {
      "image/png": "[encoded data removed]",
      "text/plain": [
       "<Figure size 864x576 with 1 Axes>"
      ]
     },
     "metadata": {},
     "output_type": "display_data"
    }
   ],
   "source": [
    "def tsne_plot(x1, y1, name=\"graph.png\"):\n",
    "    tsne = TSNE(n_components=2, random_state=0)\n",
    "    X_t = tsne.fit_transform(x1)\n",
    "\n",
    "    plt.figure(figsize=(12, 8))\n",
    "    plt.scatter(X_t[np.where(y1 == 0), 0], X_t[np.where(y1 == 0), 1], marker='o', color='g', linewidth=1, alpha=0.8, label='Non Fraud')\n",
    "    plt.scatter(X_t[np.where(y1 == 1), 0], X_t[np.where(y1 == 1), 1], marker='o', color='r', linewidth=1, alpha=0.8, label='Fraud')\n",
    "\n",
    "    plt.legend(loc='best');\n",
    "    plt.savefig(name);\n",
    "    plt.show();\n",
    "    \n",
    "tsne_plot(X, Y, name='original.png')"
   ]
  },
  {
   "cell_type": "markdown",
   "metadata": {
    "_uuid": "90872adfd25e4b2925ad3fb89c03ebc1c6eff585"
   },
   "source": [
    "From the above graph we can observe that there are many non_fraud transactions which are very close to fraud transactions, thus are difficult to accurately classify from a model. \n",
    "\n",
    "## 3. AutoEncoders to the rescue \n",
    "\n",
    "<br>\n",
    "**What are Autoencoders?** - Autoencoders are a special type of neural network architectures in which the output is same as the input. Autoencoders are trained in an unsupervised manner in order to learn the exteremely low level repersentations of the input data. These low level features are then deformed back to project the actual data. An autoencoder is a regression task where the network is asked to predict its input (in other words, model the identity function). These networks has a tight bottleneck of a few neurons in the middle, forcing them to create effective representations that compress the input into a low-dimensional code that can be used by the decoder to reproduce the original input. \n",
    "\n",
    "**More about Autoencoders** - If you want to gain more understanding about autoencoders, you can refer to the following kernel : https://www.kaggle.com/shivamb/how-autoencoders-work-intro-and-usecases\n",
    "\n",
    "![](https://i.imgur.com/Rrmaise.png)\n",
    "\n",
    "We will create an autoencoder model in which we only show the model non-fraud cases. The model will try to learn the best representation of non-fraud cases. The same model will be used to generate the representations of fraud cases and we expect them to be different from non-fraud ones. \n",
    "\n",
    "Create a network with one input layer and one output layer having identical dimentions ie. the shape of non-fraud cases. We will use keras package. "
   ]
  },
  {
   "cell_type": "code",
   "execution_count": 6,
   "metadata": {
    "_uuid": "2bd0b3f316c15b36a9e3641097b7c211501d65d0"
   },
   "outputs": [],
   "source": [
    "## input layer \n",
    "input_layer = Input(shape=(X.shape[1],))\n",
    "\n",
    "## encoding part\n",
    "encoded = Dense(50, activation='tanh', activity_regularizer=regularizers.l1(10e-5))(input_layer)\n",
    "# encoded = Dense(15, activation='relu')(encoded)\n",
    "\n",
    "# # decoding part\n",
    "# decoded = Dense(15, activation='tanh')(encoded)\n",
    "# decoded = Dense(50, activation='tanh')(encoded)\n",
    "\n",
    "## output layer\n",
    "output_layer = Dense(X.shape[1], activation='relu')(encoded)"
   ]
  },
  {
   "cell_type": "markdown",
   "metadata": {
    "_uuid": "609e28ca8121751dc742ab61ac693afe4b787add"
   },
   "source": [
    "Create the model architecture by compiling input layer and output layers. Also add the optimizer and loss function, I am using \"adadelta\" as the optimizer and \"mse\" as the loss function."
   ]
  },
  {
   "cell_type": "code",
   "execution_count": 7,
   "metadata": {
    "_uuid": "07e57e257f2f0ce03f9d1ccf3c72018f1e3598eb"
   },
   "outputs": [],
   "source": [
    "autoencoder = Model(input_layer, output_layer)\n",
    "autoencoder.compile(optimizer=\"adadelta\", loss=\"mse\")"
   ]
  },
  {
   "cell_type": "markdown",
   "metadata": {
    "_uuid": "bbc57b57e6a1c17c2887921cf56a0c73beae1872"
   },
   "source": [
    "Before training, let's perform min max scaling. "
   ]
  },
  {
   "cell_type": "code",
   "execution_count": 8,
   "metadata": {},
   "outputs": [
    {
     "name": "stdout",
     "output_type": "stream",
     "text": [
      "(426436, 21)\n"
     ]
    }
   ],
   "source": [
    "df_train, df_test = train_test_split(data, test_size=0.25)\n",
    "\n",
    "scaler = preprocessing.MinMaxScaler()\n",
    "scaler.fit(df_train.drop(['Class'], axis=1).values)\n",
    "\n",
    "class_0 = df_train[df_train['Class'] == 0]\n",
    "class_1 = df_train[df_train['Class'] == 1]\n",
    "class_1 = class_1.sample(class_0.shape[0], replace=True)\n",
    "\n",
    "df_train = pd.concat([class_0, class_1])\n",
    "print(df_train.shape)\n",
    "\n",
    "x = df_train.drop([\"Class\"], axis=1)\n",
    "y = df_train[\"Class\"].values\n",
    "\n",
    "x_scale = scaler.transform(x.values)\n",
    "x_norm, x_fraud = x_scale[y == 0], x_scale[y == 1]"
   ]
  },
  {
   "cell_type": "markdown",
   "metadata": {
    "_uuid": "40c2b5323c91bf45a9964a95dbf4d7015431f617"
   },
   "source": [
    "The beauty of this approach is that we do not need too many samples of data for learning the good representations. We will use **only 2000 rows** of non fraud cases to train the autoencoder. Additionally, We do not need to run this model for a large number of epochs. \n",
    "\n",
    "**Explanation:** The choice of small samples from the original dataset is based on the intuition that one class characteristics (non fraud) will differ from that of the other (fraud). To distinguish these characteristics we need to show the autoencoders only one class of data. This is because the autoencoder will try to learn only one class and automaticlly distinuish the other class. "
   ]
  },
  {
   "cell_type": "code",
   "execution_count": 9,
   "metadata": {
    "_uuid": "53ddb5aac591a59efb65ae1ae7d68414cac862f1"
   },
   "outputs": [
    {
     "name": "stdout",
     "output_type": "stream",
     "text": [
      "Epoch 1/30\n",
      "417/417 [==============================] - 1s 1ms/step - loss: 0.2626\n",
      "Epoch 2/30\n",
      "417/417 [==============================] - 1s 1ms/step - loss: 0.2522\n",
      "Epoch 3/30\n",
      "417/417 [==============================] - 1s 1ms/step - loss: 0.2386\n",
      "Epoch 4/30\n",
      "417/417 [==============================] - 1s 1ms/step - loss: 0.2203\n",
      "Epoch 5/30\n",
      "417/417 [==============================] - 1s 1ms/step - loss: 0.1846\n",
      "Epoch 6/30\n",
      "417/417 [==============================] - 1s 1ms/step - loss: 0.1526\n",
      "Epoch 7/30\n",
      "417/417 [==============================] - 1s 1ms/step - loss: 0.1310\n",
      "Epoch 8/30\n",
      "417/417 [==============================] - 1s 1ms/step - loss: 0.1179\n",
      "Epoch 9/30\n",
      "417/417 [==============================] - 1s 2ms/step - loss: 0.1104\n",
      "Epoch 10/30\n",
      "417/417 [==============================] - 1s 1ms/step - loss: 0.1062\n",
      "Epoch 11/30\n",
      "417/417 [==============================] - 1s 1ms/step - loss: 0.1039\n",
      "Epoch 12/30\n",
      "417/417 [==============================] - 1s 1ms/step - loss: 0.1027\n",
      "Epoch 13/30\n",
      "417/417 [==============================] - 1s 1ms/step - loss: 0.1020\n",
      "Epoch 14/30\n",
      "417/417 [==============================] - 1s 1ms/step - loss: 0.1016\n",
      "Epoch 15/30\n",
      "417/417 [==============================] - 1s 1ms/step - loss: 0.1014\n",
      "Epoch 16/30\n",
      "417/417 [==============================] - 1s 1ms/step - loss: 0.1011\n",
      "Epoch 17/30\n",
      "417/417 [==============================] - 1s 1ms/step - loss: 0.1010\n",
      "Epoch 18/30\n",
      "417/417 [==============================] - 1s 1ms/step - loss: 0.1008\n",
      "Epoch 19/30\n",
      "417/417 [==============================] - 1s 1ms/step - loss: 0.1006\n",
      "Epoch 20/30\n",
      "417/417 [==============================] - 1s 1ms/step - loss: 0.1004\n",
      "Epoch 21/30\n",
      "417/417 [==============================] - 1s 2ms/step - loss: 0.1003\n",
      "Epoch 22/30\n",
      "417/417 [==============================] - 1s 1ms/step - loss: 0.1001\n",
      "Epoch 23/30\n",
      "417/417 [==============================] - 1s 1ms/step - loss: 0.1000\n",
      "Epoch 24/30\n",
      "417/417 [==============================] - 1s 1ms/step - loss: 0.0998\n",
      "Epoch 25/30\n",
      "417/417 [==============================] - 1s 1ms/step - loss: 0.0997\n",
      "Epoch 26/30\n",
      "417/417 [==============================] - 1s 1ms/step - loss: 0.0996\n",
      "Epoch 27/30\n",
      "417/417 [==============================] - 1s 1ms/step - loss: 0.0994\n",
      "Epoch 28/30\n",
      "417/417 [==============================] - 1s 1ms/step - loss: 0.0993\n",
      "Epoch 29/30\n",
      "417/417 [==============================] - 1s 1ms/step - loss: 0.0992\n",
      "Epoch 30/30\n",
      "417/417 [==============================] - 1s 1ms/step - loss: 0.0990\n"
     ]
    },
    {
     "data": {
      "text/plain": [
       "<tensorflow.python.keras.callbacks.History at 0x7f3ccc055040>"
      ]
     },
     "execution_count": 9,
     "metadata": {},
     "output_type": "execute_result"
    }
   ],
   "source": [
    "val_train = np.vstack((x_norm, x_fraud))\n",
    "\n",
    "autoencoder.fit(val_train, val_train, \n",
    "                batch_size = 1024, epochs = 30, \n",
    "                shuffle = True)#, validation_split = 0.20);"
   ]
  },
  {
   "cell_type": "markdown",
   "metadata": {
    "_uuid": "a4fa0ded1e3dcbbb8489633fab737ef8f76e015f"
   },
   "source": [
    "## 4. Obtain the Latent Representations \n",
    "\n",
    "Now, the model is trained. We are intereseted in obtaining **latent representation of the input** learned by the model. This can be accessed by the weights of the trained model. We will create another network containing sequential layers, and we will only add the trained weights till the third layer where latent representation exists. "
   ]
  },
  {
   "cell_type": "code",
   "execution_count": 10,
   "metadata": {
    "_uuid": "924e89c74cb0b5e58dc1c597f521199e0cbf6480"
   },
   "outputs": [],
   "source": [
    "hidden_representation = Sequential()\n",
    "hidden_representation.add(autoencoder.layers[0])\n",
    "hidden_representation.add(autoencoder.layers[1])\n",
    "# hidden_representation.add(autoencoder.layers[2])"
   ]
  },
  {
   "cell_type": "markdown",
   "metadata": {
    "_uuid": "d41a12fa8f376756290cb96aa155f88daff83efe"
   },
   "source": [
    "Generate the hidden representations of two classes : non-fraud and fraud by predicting the raw inputs using the above model."
   ]
  },
  {
   "cell_type": "code",
   "execution_count": 11,
   "metadata": {
    "_uuid": "68d84866ed99a90282e832cd813dec11aed32561"
   },
   "outputs": [
    {
     "name": "stdout",
     "output_type": "stream",
     "text": [
      "(284315, 50)\n",
      "(492, 50)\n"
     ]
    }
   ],
   "source": [
    "x = data.drop([\"Class\"], axis=1)\n",
    "y = data[\"Class\"].values\n",
    "\n",
    "x_scale = scaler.transform(x.values)\n",
    "x_norm = x_scale[y == 0]\n",
    "x_fraud = x_scale[y == 1]\n",
    "\n",
    "norm_hid_rep = hidden_representation.predict(x_norm)\n",
    "fraud_hid_rep = hidden_representation.predict(x_fraud)\n",
    "\n",
    "print(norm_hid_rep.shape)\n",
    "print(fraud_hid_rep.shape)"
   ]
  },
  {
   "cell_type": "markdown",
   "metadata": {
    "_uuid": "49178e07df9b34143b0219f2dec5fd1587bc44cd"
   },
   "source": [
    "## 5. Latent representations\n",
    "\n",
    "Now we will create a training dataset using the latent representations obtained and let's visualize the nature of fraud vs non-fraud cases. "
   ]
  },
  {
   "cell_type": "code",
   "execution_count": 12,
   "metadata": {
    "_uuid": "10eebe15aa8ee9919713d6c398fe64cb10d07ce0"
   },
   "outputs": [
    {
     "name": "stdout",
     "output_type": "stream",
     "text": [
      "(284807, 50)\n",
      "(284807,)\n"
     ]
    }
   ],
   "source": [
    "rep_x = np.append(norm_hid_rep, fraud_hid_rep, axis = 0)\n",
    "y_n = np.zeros(norm_hid_rep.shape[0])\n",
    "y_f = np.ones(fraud_hid_rep.shape[0])\n",
    "rep_y = np.append(y_n, y_f)\n",
    "\n",
    "print(rep_x.shape)\n",
    "print(rep_y.shape)"
   ]
  },
  {
   "cell_type": "markdown",
   "metadata": {
    "_uuid": "8c3615441819dc2466c043cff6d40535a9dbbdee"
   },
   "source": [
    "Now, we can just train a simple linear classifier on the dataset. \n",
    "\n",
    "## 6. SVM"
   ]
  },
  {
   "cell_type": "code",
   "execution_count": 13,
   "metadata": {
    "_uuid": "9e4b7db9546a4a2ac9dfdb518efd262980b85e6c"
   },
   "outputs": [
    {
     "name": "stdout",
     "output_type": "stream",
     "text": [
      "Confusion matrix:\n",
      "[[99486    25]\n",
      " [   43   129]]\n",
      "\n",
      "Classification Report: \n",
      "              precision    recall  f1-score   support\n",
      "\n",
      "         0.0       1.00      1.00      1.00     99511\n",
      "         1.0       0.84      0.75      0.79       172\n",
      "\n",
      "    accuracy                           1.00     99683\n",
      "   macro avg       0.92      0.87      0.90     99683\n",
      "weighted avg       1.00      1.00      1.00     99683\n",
      "\n"
     ]
    }
   ],
   "source": [
    "from sklearn.metrics import confusion_matrix\n",
    "from sklearn import svm\n",
    "\n",
    "train_x, val_x, train_y, val_y = train_test_split(rep_x, rep_y, train_size=0.65)\n",
    "\n",
    "clf = svm.SVC()\n",
    "clf.fit(train_x, train_y)\n",
    "pred_y = clf.predict(val_x)\n",
    "\n",
    "# clf = LogisticRegression(max_iter=500).fit(train_x, train_y)\n",
    "# pred_y = clf.predict(val_x)\n",
    "\n",
    "confusion = confusion_matrix(val_y, pred_y)\n",
    "print(\"Confusion matrix:\\n%s\" % confusion)\n",
    "\n",
    "print (\"\")\n",
    "print (\"Classification Report: \")\n",
    "print (classification_report(val_y, pred_y))"
   ]
  }
 ],
 "metadata": {
  "kernelspec": {
   "display_name": "Python 3.8.5 64-bit",
   "language": "python",
   "name": "python38564bite6729de135e1492ba97c42d2412e1a2c"
  },
  "language_info": {
   "codemirror_mode": {
    "name": "ipython",
    "version": 3
   },
   "file_extension": ".py",
   "mimetype": "text/x-python",
   "name": "python",
   "nbconvert_exporter": "python",
   "pygments_lexer": "ipython3",
   "version": "3.8.6"
  }
 },
 "nbformat": 4,
 "nbformat_minor": 4
}
