{
 "cells": [
  {
   "cell_type": "markdown",
   "metadata": {},
   "source": [
    "# Credit Card Fraud"
   ]
  },
  {
   "cell_type": "markdown",
   "metadata": {},
   "source": [
    "We will be detecting credit card fraud based on the different features of our dataset with 3 different models. Here is the Logistic Regression one.\n",
    "\n",
    "We're looking to minimize the False Negative Rate or FNR.\n",
    "\n",
    "Since the dataset is unbalanced, we can try two techniques that may help us have better predictions:\n",
    "\n",
    "    - Adding some noise (gaussian) to the fraud data to create more and reduce the imbalance\n",
    "    - Randomly sample the fraud data and train k models and average them out (or choose the best)\n",
    "    \n",
    " "
   ]
  },
  {
   "cell_type": "code",
   "execution_count": 3,
   "metadata": {},
   "outputs": [],
   "source": [
    "import numpy as np\n",
    "import sklearn as sk\n",
    "import pandas as pd\n",
    "import matplotlib.pyplot as plt\n",
    "from sklearn.metrics import confusion_matrix\n",
    "from sklearn.preprocessing import scale\n",
    "import random"
   ]
  },
  {
   "cell_type": "code",
   "execution_count": 4,
   "metadata": {},
   "outputs": [
    {
     "data": {
      "text/html": [
       "<div>\n",
       "<style scoped>\n",
       "    .dataframe tbody tr th:only-of-type {\n",
       "        vertical-align: middle;\n",
       "    }\n",
       "\n",
       "    .dataframe tbody tr th {\n",
       "        vertical-align: top;\n",
       "    }\n",
       "\n",
       "    .dataframe thead th {\n",
       "        text-align: right;\n",
       "    }\n",
       "</style>\n",
       "<table border=\"1\" class=\"dataframe\">\n",
       "  <thead>\n",
       "    <tr style=\"text-align: right;\">\n",
       "      <th></th>\n",
       "      <th>Time</th>\n",
       "      <th>V1</th>\n",
       "      <th>V2</th>\n",
       "      <th>V3</th>\n",
       "      <th>V4</th>\n",
       "      <th>V5</th>\n",
       "      <th>V6</th>\n",
       "      <th>V7</th>\n",
       "      <th>V8</th>\n",
       "      <th>V9</th>\n",
       "      <th>...</th>\n",
       "      <th>V21</th>\n",
       "      <th>V22</th>\n",
       "      <th>V23</th>\n",
       "      <th>V24</th>\n",
       "      <th>V25</th>\n",
       "      <th>V26</th>\n",
       "      <th>V27</th>\n",
       "      <th>V28</th>\n",
       "      <th>Amount</th>\n",
       "      <th>Class</th>\n",
       "    </tr>\n",
       "  </thead>\n",
       "  <tbody>\n",
       "    <tr>\n",
       "      <th>0</th>\n",
       "      <td>145721.0</td>\n",
       "      <td>1.965977</td>\n",
       "      <td>-0.101403</td>\n",
       "      <td>-1.211262</td>\n",
       "      <td>1.270604</td>\n",
       "      <td>0.244049</td>\n",
       "      <td>-0.044854</td>\n",
       "      <td>-0.059925</td>\n",
       "      <td>0.052383</td>\n",
       "      <td>0.564367</td>\n",
       "      <td>...</td>\n",
       "      <td>0.209118</td>\n",
       "      <td>0.816229</td>\n",
       "      <td>-0.000331</td>\n",
       "      <td>0.703329</td>\n",
       "      <td>0.376746</td>\n",
       "      <td>-0.420003</td>\n",
       "      <td>0.003401</td>\n",
       "      <td>-0.060886</td>\n",
       "      <td>2.00</td>\n",
       "      <td>0</td>\n",
       "    </tr>\n",
       "    <tr>\n",
       "      <th>1</th>\n",
       "      <td>776.0</td>\n",
       "      <td>1.139557</td>\n",
       "      <td>0.159935</td>\n",
       "      <td>0.049789</td>\n",
       "      <td>0.542350</td>\n",
       "      <td>-0.024712</td>\n",
       "      <td>-0.788885</td>\n",
       "      <td>0.480907</td>\n",
       "      <td>-0.332393</td>\n",
       "      <td>-0.314560</td>\n",
       "      <td>...</td>\n",
       "      <td>-0.462033</td>\n",
       "      <td>-1.508388</td>\n",
       "      <td>0.105812</td>\n",
       "      <td>-0.114298</td>\n",
       "      <td>0.183347</td>\n",
       "      <td>-0.112136</td>\n",
       "      <td>-0.049833</td>\n",
       "      <td>0.031446</td>\n",
       "      <td>88.88</td>\n",
       "      <td>0</td>\n",
       "    </tr>\n",
       "    <tr>\n",
       "      <th>2</th>\n",
       "      <td>37569.0</td>\n",
       "      <td>0.989122</td>\n",
       "      <td>-1.329290</td>\n",
       "      <td>0.503809</td>\n",
       "      <td>-1.077895</td>\n",
       "      <td>-0.769903</td>\n",
       "      <td>1.575578</td>\n",
       "      <td>-1.194731</td>\n",
       "      <td>0.670416</td>\n",
       "      <td>-0.401293</td>\n",
       "      <td>...</td>\n",
       "      <td>-0.237766</td>\n",
       "      <td>-0.211168</td>\n",
       "      <td>0.155213</td>\n",
       "      <td>-0.981930</td>\n",
       "      <td>-0.323915</td>\n",
       "      <td>1.424766</td>\n",
       "      <td>-0.010760</td>\n",
       "      <td>-0.004914</td>\n",
       "      <td>89.90</td>\n",
       "      <td>0</td>\n",
       "    </tr>\n",
       "    <tr>\n",
       "      <th>3</th>\n",
       "      <td>68203.0</td>\n",
       "      <td>1.468156</td>\n",
       "      <td>-1.059905</td>\n",
       "      <td>0.306992</td>\n",
       "      <td>-1.501983</td>\n",
       "      <td>-1.349983</td>\n",
       "      <td>-0.506555</td>\n",
       "      <td>-1.000170</td>\n",
       "      <td>-0.084204</td>\n",
       "      <td>-2.080436</td>\n",
       "      <td>...</td>\n",
       "      <td>-0.174713</td>\n",
       "      <td>-0.182721</td>\n",
       "      <td>-0.031887</td>\n",
       "      <td>-0.007128</td>\n",
       "      <td>0.394275</td>\n",
       "      <td>-0.205539</td>\n",
       "      <td>0.022378</td>\n",
       "      <td>0.010371</td>\n",
       "      <td>30.00</td>\n",
       "      <td>0</td>\n",
       "    </tr>\n",
       "    <tr>\n",
       "      <th>4</th>\n",
       "      <td>117822.0</td>\n",
       "      <td>1.873501</td>\n",
       "      <td>-1.292506</td>\n",
       "      <td>-1.898019</td>\n",
       "      <td>-0.376750</td>\n",
       "      <td>-0.302375</td>\n",
       "      <td>-0.313058</td>\n",
       "      <td>-0.182886</td>\n",
       "      <td>-0.206041</td>\n",
       "      <td>-0.066789</td>\n",
       "      <td>...</td>\n",
       "      <td>-0.009603</td>\n",
       "      <td>0.137327</td>\n",
       "      <td>-0.174894</td>\n",
       "      <td>0.013225</td>\n",
       "      <td>0.223711</td>\n",
       "      <td>-0.023733</td>\n",
       "      <td>-0.036527</td>\n",
       "      <td>-0.024956</td>\n",
       "      <td>190.00</td>\n",
       "      <td>0</td>\n",
       "    </tr>\n",
       "  </tbody>\n",
       "</table>\n",
       "<p>5 rows × 31 columns</p>\n",
       "</div>"
      ],
      "text/plain": [
       "       Time        V1        V2        V3        V4        V5        V6  \\\n",
       "0  145721.0  1.965977 -0.101403 -1.211262  1.270604  0.244049 -0.044854   \n",
       "1     776.0  1.139557  0.159935  0.049789  0.542350 -0.024712 -0.788885   \n",
       "2   37569.0  0.989122 -1.329290  0.503809 -1.077895 -0.769903  1.575578   \n",
       "3   68203.0  1.468156 -1.059905  0.306992 -1.501983 -1.349983 -0.506555   \n",
       "4  117822.0  1.873501 -1.292506 -1.898019 -0.376750 -0.302375 -0.313058   \n",
       "\n",
       "         V7        V8        V9  ...       V21       V22       V23       V24  \\\n",
       "0 -0.059925  0.052383  0.564367  ...  0.209118  0.816229 -0.000331  0.703329   \n",
       "1  0.480907 -0.332393 -0.314560  ... -0.462033 -1.508388  0.105812 -0.114298   \n",
       "2 -1.194731  0.670416 -0.401293  ... -0.237766 -0.211168  0.155213 -0.981930   \n",
       "3 -1.000170 -0.084204 -2.080436  ... -0.174713 -0.182721 -0.031887 -0.007128   \n",
       "4 -0.182886 -0.206041 -0.066789  ... -0.009603  0.137327 -0.174894  0.013225   \n",
       "\n",
       "        V25       V26       V27       V28  Amount  Class  \n",
       "0  0.376746 -0.420003  0.003401 -0.060886    2.00      0  \n",
       "1  0.183347 -0.112136 -0.049833  0.031446   88.88      0  \n",
       "2 -0.323915  1.424766 -0.010760 -0.004914   89.90      0  \n",
       "3  0.394275 -0.205539  0.022378  0.010371   30.00      0  \n",
       "4  0.223711 -0.023733 -0.036527 -0.024956  190.00      0  \n",
       "\n",
       "[5 rows x 31 columns]"
      ]
     },
     "execution_count": 4,
     "metadata": {},
     "output_type": "execute_result"
    }
   ],
   "source": [
    "df = pd.read_csv('creditcard.csv', low_memory=False)\n",
    "df = df.sample(frac=1).reset_index(drop=True)\n",
    "df.head()"
   ]
  },
  {
   "cell_type": "code",
   "execution_count": 5,
   "metadata": {},
   "outputs": [
    {
     "name": "stdout",
     "output_type": "stream",
     "text": [
      "We have 492 fraud data points and 284315 nonfraudulent data points.\n"
     ]
    }
   ],
   "source": [
    "frauds = df.loc[df['Class'] == 1]\n",
    "non_frauds = df.loc[df['Class'] == 0]\n",
    "print(\"We have\", len(frauds), \"fraud data points and\", len(non_frauds), \"nonfraudulent data points.\")"
   ]
  },
  {
   "cell_type": "code",
   "execution_count": 9,
   "metadata": {},
   "outputs": [],
   "source": [
    "from sklearn import datasets, linear_model\n",
    "from sklearn.preprocessing import PolynomialFeatures\n",
    "from sklearn.model_selection import train_test_split"
   ]
  },
  {
   "cell_type": "code",
   "execution_count": 10,
   "metadata": {},
   "outputs": [
    {
     "name": "stdout",
     "output_type": "stream",
     "text": [
      "X and y sizes, respectively: 284807 284807\n",
      "Train and test sizes, respectively: 185124 185124 | 99683 99683\n",
      "Total number of frauds: 492 0.001727485630620034\n",
      "Number of frauds on y_test: 163 0.0016351835317957926\n",
      "Number of frauds on y_train: 329 0.001777187182645146\n"
     ]
    }
   ],
   "source": [
    "X = df.iloc[:,:-1]\n",
    "y = df['Class']\n",
    "\n",
    "print(\"X and y sizes, respectively:\", len(X), len(y))\n",
    "\n",
    "X_train, X_test, y_train, y_test = train_test_split(X, y, test_size=0.35)\n",
    "print(\"Train and test sizes, respectively:\", len(X_train), len(y_train), \"|\", len(X_test), len(y_test))\n",
    "print(\"Total number of frauds:\", len(y.loc[df['Class'] == 1]), len(y.loc[df['Class'] == 1])/len(y))\n",
    "print(\"Number of frauds on y_test:\", len(y_test.loc[df['Class'] == 1]), len(y_test.loc[df['Class'] == 1]) / len(y_test))\n",
    "print(\"Number of frauds on y_train:\", len(y_train.loc[df['Class'] == 1]), len(y_train.loc[df['Class'] == 1])/len(y_train))"
   ]
  },
  {
   "cell_type": "code",
   "execution_count": 28,
   "metadata": {},
   "outputs": [],
   "source": [
    "y_predicted = np.array(logistic.predict(X_test))\n",
    "y_right = np.array(y_test)"
   ]
  },
  {
   "cell_type": "code",
   "execution_count": 29,
   "metadata": {
    "scrolled": false
   },
   "outputs": [
    {
     "name": "stdout",
     "output_type": "stream",
     "text": [
      "Confusion matrix:\n",
      "[[95831  3689]\n",
      " [   14   149]]\n"
     ]
    }
   ],
   "source": [
    "confusion = confusion_matrix(y_right, y_predicted)\n",
    "print(\"Confusion matrix:\\n%s\" % confusion)"
   ]
  },
  {
   "cell_type": "code",
   "execution_count": 27,
   "metadata": {},
   "outputs": [
    {
     "name": "stdout",
     "output_type": "stream",
     "text": [
      "False negetive rate 0.9989254870455915\n"
     ]
    }
   ],
   "source": [
    "print(\"False negetive rate\",99473/(99473+107))"
   ]
  },
  {
   "cell_type": "markdown",
   "metadata": {},
   "source": [
    "# Logistic Regression with balanced class weights"
   ]
  },
  {
   "cell_type": "code",
   "execution_count": 20,
   "metadata": {},
   "outputs": [],
   "source": [
    "best_c, best_fnr = 1, 1\n",
    "for _ in range(20):\n",
    "    c = random.uniform(1, 10000)\n",
    "    logistic = linear_model.LogisticRegression(C=c, class_weight=\"balanced\")\n",
    "    logistic.fit(X_train, y_train)\n",
    "    #print(\"Score: \", logistic.score(X_test, y_test))\n",
    "    y_predicted2 = np.array(logistic.predict(X_test))\n",
    "    y_right2 = np.array(y_test)\n",
    "    confusion_matrix2 = confusion_matrix(y_right2, y_predicted2)\n",
    "    #print(\"Confusion matrix:\\n%s\" % confusion_matrix2)\n",
    "    #confusion_matrix2.plot(normalized=True)\n",
    "    #plt.show()\n",
    "    #confusion_matrix2.print_stats()\n",
    "    "
   ]
  },
  {
   "cell_type": "code",
   "execution_count": null,
   "metadata": {},
   "outputs": [],
   "source": []
  }
 ],
 "metadata": {
  "anaconda-cloud": {},
  "kernelspec": {
   "display_name": "Python 3",
   "language": "python",
   "name": "python3"
  },
  "language_info": {
   "codemirror_mode": {
    "name": "ipython",
    "version": 3
   },
   "file_extension": ".py",
   "mimetype": "text/x-python",
   "name": "python",
   "nbconvert_exporter": "python",
   "pygments_lexer": "ipython3",
   "version": "3.7.8"
  }
 },
 "nbformat": 4,
 "nbformat_minor": 1
}
